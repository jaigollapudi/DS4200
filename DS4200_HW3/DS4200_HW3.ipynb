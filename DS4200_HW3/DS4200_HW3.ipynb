{
 "cells": [
  {
   "cell_type": "markdown",
   "id": "99be97ba",
   "metadata": {},
   "source": [
    "Name: Jai Gollapudi\n",
    "<br>\n",
    "Class: DS4200\n",
    "<br>\n",
    "Assignment: HW3"
   ]
  },
  {
   "cell_type": "markdown",
   "id": "1e05c4db",
   "metadata": {},
   "source": [
    "## Part 1: Altair interactive plots\n",
    "\n",
    "Gapminder is a non-profit organization that promotes global sustainable development and seeks to bridge the gap between misconceptions and data-driven understanding. We are going to explore the a small subset of its data with the information of average income, health score and population for each country in the world. The region information is also provided. \n"
   ]
  },
  {
   "cell_type": "code",
   "execution_count": null,
   "id": "4cfa4cd1",
   "metadata": {},
   "outputs": [],
   "source": [
    "import altair as alt\n",
    "import pandas as pd\n",
    "\n",
    "gapminder = pd.read_csv('gapminder-health-income.csv')\n",
    "gapminder.head()"
   ]
  },
  {
   "cell_type": "markdown",
   "id": "40fb8abb",
   "metadata": {},
   "source": [
    "### Part 1.1 Add selection (5 points)\n",
    "\n",
    "Make a scatter plot to show the relationship between average personal income and average health score. Please add tooltip to it to show the information about the region name and population. Also, allow the user to select a single country to highlight while all the other become light grey. "
   ]
  },
  {
   "cell_type": "code",
   "execution_count": null,
   "id": "239d0885",
   "metadata": {},
   "outputs": [],
   "source": [
    "# Creating a point selection to highlight points\n",
    "point_selection = alt.selection_point(fields=['country'], empty=True)\n",
    "\n",
    "# Scatter plot with tooltip\n",
    "scatter_plot = alt.Chart(gapminder).mark_circle().encode(\n",
    "    x='income:Q',\n",
    "    y='health:Q',\n",
    "    color=alt.condition(point_selection, 'region:N', alt.value('lightgrey')),\n",
    "    tooltip=['country:N', 'region:N', 'population:Q']\n",
    ").add_params(\n",
    "    point_selection\n",
    ").properties(\n",
    "    width=800,\n",
    "    height=300,\n",
    "    title = 'Scatter plot between average personal income and average health score'\n",
    ")\n",
    "\n",
    "scatter_plot"
   ]
  },
  {
   "cell_type": "markdown",
   "id": "60721523",
   "metadata": {},
   "source": [
    "### Part 1.2 Customize the color (10 points)\n",
    "\n",
    "Now choose a customized color map for the previous question. Explain how you choose the color map and apply it to the plot. \n"
   ]
  },
  {
   "cell_type": "code",
   "execution_count": null,
   "id": "c98da348",
   "metadata": {},
   "outputs": [],
   "source": [
    "# Creating a point selection to highlight points\n",
    "point_selection = alt.selection_point(fields=['country'], empty=True)\n",
    "\n",
    "# Setting the domain of regions\n",
    "domain = gapminder['region'].unique()\n",
    "\n",
    "# Defining a custom color scale\n",
    "color_scale = alt.Scale(domain=domain,\n",
    "                        range=['rgb(0, 0, 255)',  # Blue\n",
    "                               'rgb(0, 128, 0)',  # Green\n",
    "                               'rgb(255, 0, 0)',  # Red\n",
    "                               'rgb(255, 165, 0)',# Orange\n",
    "                               'rgb(0, 0, 0)',    # Black\n",
    "                               'rgb(255, 255, 0)']) # Yellow])\n",
    "\n",
    "# Applying the custom color scale to the scatter plot with tool tip\n",
    "scatter_plot = alt.Chart(gapminder).mark_circle().encode(\n",
    "    x='income:Q',\n",
    "    y='health:Q',\n",
    "    color=alt.condition(point_selection, \n",
    "                        alt.Color('region:N', scale=color_scale), \n",
    "                        alt.value('lightgrey')),\n",
    "    tooltip=['country:N', 'region:N', 'population:Q']\n",
    ").add_params(\n",
    "    point_selection  \n",
    ").properties(\n",
    "    width=800,\n",
    "    height=300,\n",
    "    title = 'Scatter plot between average personal income and average health score'\n",
    ")\n",
    "\n",
    "scatter_plot"
   ]
  },
  {
   "cell_type": "markdown",
   "id": "4a12f0f2",
   "metadata": {},
   "source": [
    "I chose my colors scheme from [here](http://vrl.cs.brown.edu/color) to visualize the relationship between average personal income and health scores by region. Explanation: \n",
    "\n",
    "- Increased Color Diversity: By expanding the color range to include blue, green, red, orange, black, and yellow, I've provided a broader spectrum to represent the unique regions within the gapminder dataset. This diversity ensures that each region can be distinctly identified, enhancing the interpretability of the scatter plot.\n",
    "\n",
    "\n",
    "- Accessibility and Contrast: The selected colors offer high contrast against the light grey color used for non-selected countries. This contrast is crucial for accessibility and ensures that the viewer can easily distinguish between selected and non-selected points, as well as between different regions.\n",
    "\n",
    "\n",
    "- Aesthetic Appeal: The colors balance aesthetic appeal with functionality. The combination of colors is visually engaging, encouraging viewers to explore the data more deeply. An attractive visualization can significantly enhance the user's engagement and interest in the data being presented.\n"
   ]
  },
  {
   "cell_type": "markdown",
   "id": "2bd48567",
   "metadata": {},
   "source": [
    "### Part 1.3 Select across multiple panels (5 points)\n",
    "\n",
    "Now add an interval selection such that the user can select over any income range, such that we can generate a second plot to show the relationship between income and population for the given range. "
   ]
  },
  {
   "cell_type": "code",
   "execution_count": null,
   "id": "506491e1",
   "metadata": {},
   "outputs": [],
   "source": [
    "# Defining the interval selection\n",
    "interval_selection = alt.selection_interval(encodings=['x'], empty=True)\n",
    "\n",
    "\n",
    "# Scatter plot with tooltip\n",
    "scatter_plot = alt.Chart(gapminder).mark_circle().encode(\n",
    "    x='income:Q',\n",
    "    y='health:Q',\n",
    "    color=alt.condition(interval_selection, \n",
    "                        alt.Color('region:N'), \n",
    "                        alt.value('lightgrey')),\n",
    "    tooltip=['country:N', 'region:N', 'population:Q']\n",
    ").add_params(\n",
    "    interval_selection  \n",
    ").properties(\n",
    "    width=800,\n",
    "    height=300,\n",
    "    title = 'Scatter plot between average personal income and average health score'\n",
    ")\n",
    "\n",
    "# Using the selection in the second plot\n",
    "income_population_plot = alt.Chart(gapminder).mark_circle().encode(\n",
    "    x='income:Q',\n",
    "    y='population:Q',\n",
    "    color='region:N',\n",
    "    tooltip=['country:N', 'population:Q']\n",
    ").transform_filter(\n",
    "    interval_selection\n",
    ").properties(\n",
    "    width=800,\n",
    "    height=300,\n",
    "    title = 'Scatter plot between average personal income and population'\n",
    ")\n",
    "\n",
    "# Combining the plots\n",
    "combined_plot = scatter_plot & income_population_plot\n",
    "\n",
    "combined_plot"
   ]
  },
  {
   "cell_type": "markdown",
   "id": "57dddd92",
   "metadata": {},
   "source": [
    "### Part 1.4 Data binding (10 points)\n",
    "\n",
    "Instead of the using the legend, now include a radio button or the region such that each selection only highlights one region and make the other points to be grey. "
   ]
  },
  {
   "cell_type": "code",
   "execution_count": null,
   "id": "88ddd35f",
   "metadata": {
    "scrolled": false
   },
   "outputs": [],
   "source": [
    "# Creating a radio button selection for filtering the data by region\n",
    "radio_selection = alt.selection_point(\n",
    "    fields=['region'],\n",
    "    bind=alt.binding_radio(options=gapminder['region'].unique().tolist()),\n",
    "    name=\"Region\", \n",
    "    empty=True)\n",
    "\n",
    "# Scatter plot with tooltip\n",
    "scatter_plot = alt.Chart(gapminder).mark_circle().encode(\n",
    "    x='income:Q',\n",
    "    y='health:Q',\n",
    "    color=alt.condition(radio_selection, \n",
    "                        alt.Color('region:N'), \n",
    "                        alt.value('lightgrey')),\n",
    "    tooltip=['country:N', 'population:Q']\n",
    ").add_params(\n",
    "    radio_selection\n",
    ").properties(\n",
    "    width=800,\n",
    "    height=300,\n",
    "    title = 'Scatter plot between average personal income and average health score'\n",
    ")\n",
    "\n",
    "scatter_plot\n"
   ]
  },
  {
   "cell_type": "markdown",
   "id": "19db1c70",
   "metadata": {},
   "source": [
    "### Part 1.5 Add filter with bars (10 points)\n",
    "\n",
    "Add a slider bar such that for a given value on the bar, we only show the data such that the population of the country is less than the value. "
   ]
  },
  {
   "cell_type": "code",
   "execution_count": null,
   "id": "91579a64",
   "metadata": {},
   "outputs": [],
   "source": [
    "# Defining the slider as a selection that targets the entire dataset based on a condition\n",
    "slider = alt.binding_range(min=gapminder['population'].min(), \n",
    "                           max=gapminder['population'].max(), \n",
    "                           step=10000, \n",
    "                           name='Population less than:')\n",
    "\n",
    "\n",
    "# Creating the scatter plot with a filter transformation based on the slider's value\n",
    "scatter_plot = alt.Chart(gapminder).mark_circle().encode(\n",
    "    x='income:Q',\n",
    "    y='health:Q',\n",
    "    color='region:N',\n",
    "    tooltip=['country:N', 'region:N', 'population:Q']\n",
    ").transform_filter(\n",
    "    alt.datum.population < slider_selection.limit\n",
    ").add_params(\n",
    "    slider_selection\n",
    ").properties(\n",
    "    width=800,\n",
    "    height=300,\n",
    "    title = 'Scatter plot between average personal income and average health score'\n",
    ")\n",
    "\n",
    "scatter_plot\n",
    "\n",
    "\n",
    "\n"
   ]
  },
  {
   "cell_type": "markdown",
   "id": "d2f26355",
   "metadata": {},
   "source": [
    "## Part 2: D3 basic plots: \n",
    "\n",
    "In this question, we provide a CSV file with the penguin data. You need to make two plots by filling the given templete. When submit the homework, please submit both .html and .js. \n",
    "\n",
    "### Part 2.1 Scatter plot with groups (30 points)\n",
    "\n",
    "Use the penguin data, make a scatter plot to show the relationship between flipper length and bill length. Use differnt color for each species and add a legend. \n",
    "\n",
    "Here is a general approch here: \n",
    "\n",
    "1. In the templete, we provide you a way to read the csv file. Once the data is read into d3. All the inputs are considered as strings. Therefore, the first thing we need to do is to convert the data to numeric type. The code is also provided.\n",
    "2. Define the dimensions and margins for the SVG  and create the SVG canvas. (5 points)\n",
    "3. Set up scales for x and y axes. Set the range of X and Y to be the range of bill length and flipper length plus 5 on each side. One example of the .min function is provided. Color scale is also provided. (5 points)\n",
    "5. Add scales to the plot. (5 points)\n",
    "6. Add circles for each data point (5 points)\n",
    "7. Add x-axis and y-axis label. (5 points)\n",
    "8. Add legend. Legend has two parts. The circle and the text. First, we need to set up a layout for the legend, and then add circle and text to this legend. (5 points)\n",
    "\n",
    "### Part 2.2 Side-by-side boxplot (30 points)\n",
    "\n",
    "Use the penguin data, make a side by side boxplot to show the distribution of flipper length across three species. To make things easier, we can ignore the outliers first. \n",
    "\n",
    "Here is a general approch here: \n",
    "\n",
    "1. First convert the strings into numeric data as we did in previous question. Setup the SVG canvas, scales and add the scales to the canvas and also add labels for the scales. (5 points) \n",
    "2. In order to make a boxplot, we need to calculate some basic metrics for the data. For each species, we need to calcualte the q1, median and q3. We first define a fundtion called `rollupFunction` to list all the variables we need to calculate. Follow the example for q1 to setup for median and q3, or any other values you need. (5 points)\n",
    "3. Add comments for the following two lines (add in the .js file) to explain what those codes are doing. (5 points) \n",
    "    \n",
    "    ```js\n",
    "    const quartilesBySpecies = d3.rollup(data, rollupFunction, d => d.species);\n",
    "\n",
    "    quartilesBySpecies.forEach((quartiles, species) => {\n",
    "        const x = xScale(species);\n",
    "        const boxWidth = xScale.bandwidth();\n",
    "    ```\n",
    "4. Inside the `.forEach` function, draw the boxes. There are three things you need to draw for the box plot: \n",
    "    - The vertical line in the middel from the q1-1.5 * IQR to q3+1.5 * IQR (5 points)\n",
    "    - The rectangular shape from q1 to q3. You can add some color to hide the vertical line in the back.  (5 points)\n",
    "    - The horizental line for median (5 points)\n"
   ]
  },
  {
   "cell_type": "markdown",
   "id": "d8648737",
   "metadata": {},
   "source": [
    "## Submission\n",
    "\n",
    "Once you finish all the questions. Submit the jupyter notebook file for the Altair part, as well as the .html and .js for the D3 part to Gradescope. "
   ]
  }
 ],
 "metadata": {
  "kernelspec": {
   "display_name": "Python 3 (ipykernel)",
   "language": "python",
   "name": "python3"
  },
  "language_info": {
   "codemirror_mode": {
    "name": "ipython",
    "version": 3
   },
   "file_extension": ".py",
   "mimetype": "text/x-python",
   "name": "python",
   "nbconvert_exporter": "python",
   "pygments_lexer": "ipython3",
   "version": "3.9.13"
  },
  "toc": {
   "base_numbering": 1,
   "nav_menu": {},
   "number_sections": true,
   "sideBar": true,
   "skip_h1_title": false,
   "title_cell": "Table of Contents",
   "title_sidebar": "Contents",
   "toc_cell": false,
   "toc_position": {},
   "toc_section_display": true,
   "toc_window_display": false
  }
 },
 "nbformat": 4,
 "nbformat_minor": 5
}
